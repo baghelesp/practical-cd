{
  "cells": [
    {
      "cell_type": "code",
      "execution_count": null,
      "metadata": {
        "colab": {
          "base_uri": "https://localhost:8080/"
        },
        "id": "uf3FI3339qg9",
        "outputId": "0ae2c0ba-86c4-4a04-f742-a3df28b70cc6"
      },
      "outputs": [
        {
          "output_type": "stream",
          "name": "stdout",
          "text": [
            "NP VP\n"
          ]
        }
      ],
      "source": [
        "NT=[\"championship\",\"ball\",\"toss\",\"is\",\"want\",\"won\",\"Played\",\"me\",\"I\",\"you\",\"India\",\"Australia\",\"Steve\",\"John\",\"the\",\"a\",\"an\"]\n",
        "\n",
        "options = {\n",
        "    \"S\": [ \"-\",\"-\",\"-\",\"NP VP\",\"NP VP\",\"NP VP\",\"NP VP\",\"NP VP\",\"NP VP\",\"NP VP\",\"NP VP\",\"NP VP\",\"NP VP\",\"NP VP\",\"NP VP\",\"NP VP\",\"NP VP\" ],\n",
        "    \"NP\":[\"-\",\"-\",\"-\",\"-\",\"-\",\"-\",\"-\",\"P\",\"P\",\"P\",\"PN\",\"PN\",\"PN\",\"PN\",\"D N\",\"D N\",\"D N\"],\n",
        "    \"VP\":[\"-\",\"-\",\"-\",\"V NP\",\"V NP\",\"V NP\",\"V NP\",\"V NP\",\"-\",\"-\",\"-\",\"-\",\"-\",\"-\",\"-\",\"-\",\"-\"], \n",
        "    \"N\": [\"championship\",\"ball\",\"toss\",\"-\",\"-\",\"-\",\"-\",\"-\",\"-\",\"-\",\"-\",\"-\",\"-\",\"-\",\"-\",\"-\",\"-\"], \n",
        "    \"V\": [\"-\",\"-\",\"-\",\"is\",\"want\",\"won\",\"played\",\"-\",\"-\",\"-\",\"-\",\"-\",\"-\",\"-\",\"-\",\"-\",\"-\"], \n",
        "    \"P\": [\"-\",\"-\",\"-\",\"-\",\"-\",\"-\",\"-\",\"me\",\"I\",\"you\",\"-\",\"-\",\"-\",\"-\",\"-\",\"-\",\"-\"], \n",
        "    \"PN\":[\"-\",\"-\",\"-\",\"-\",\"-\",\"-\",\"-\",\"-\",\"-\",\"-\",\"India\",\"Australia\",\"Steve\",\"John\",\"-\",\"-\",\"-\"],\n",
        "    \"D\": [\"-\",\"-\",\"-\",\"-\",\"-\",\"-\",\"-\",\"-\",\"-\",\"-\",\"-\",\"-\",\"-\",\"-\",\"the\",\"a\",\"an\"],\n",
        "}\n",
        "print(options[\"S\"][3])\n",
        "\n",
        "\n"
      ]
    },
    {
      "cell_type": "code",
      "execution_count": null,
      "metadata": {
        "id": "3ojBiJM39qhB"
      },
      "outputs": [],
      "source": [
        "\n",
        "\n",
        "\n",
        "def splitf(input):\n",
        "    splithis = []\n",
        "    #print(input)\n",
        "\n",
        "    #split the input\n",
        "    words = input.split()\n",
        "\n",
        "    for i in words:\n",
        "        splithis.append(i)\n",
        "        \n",
        "    return splithis\n",
        "        \n",
        "        \n",
        "#splitf(options[\"S\"][3])\n",
        "\n",
        "#print(splithis)\n",
        "\n"
      ]
    },
    {
      "cell_type": "code",
      "execution_count": null,
      "metadata": {
        "colab": {
          "base_uri": "https://localhost:8080/"
        },
        "id": "aPc3FDNp9qhB",
        "outputId": "bf4396e1-4489-42fd-c312-9f41ec4b6e66"
      },
      "outputs": [
        {
          "output_type": "execute_result",
          "data": {
            "text/plain": [
              "1"
            ]
          },
          "metadata": {},
          "execution_count": 40
        }
      ],
      "source": [
        "noval='-'\n",
        "\n",
        "def getintNT(input):\n",
        "    if options.get(input) is not None:\n",
        "        index = list(options).index(input)\n",
        "        return(index)\n",
        "    else:\n",
        "        print(\"Does not exist\")\n",
        "        \n",
        "        \n",
        "getintNT(\"NP\")"
      ]
    },
    {
      "cell_type": "code",
      "execution_count": null,
      "metadata": {
        "colab": {
          "base_uri": "https://localhost:8080/"
        },
        "id": "pBskTsh99qhB",
        "outputId": "368a0d32-0e18-4ec2-9c24-23051f897a64"
      },
      "outputs": [
        {
          "output_type": "execute_result",
          "data": {
            "text/plain": [
              "0"
            ]
          },
          "metadata": {},
          "execution_count": 66
        }
      ],
      "source": [
        "def getindT (input):\n",
        "  try:\n",
        "    index = NT.index(input)\n",
        "    return(index)\n",
        "  except :\n",
        "    print(\"Not valid strinf\")\n",
        "    \n",
        "getindT(\"championship\")\n"
      ]
    },
    {
      "cell_type": "code",
      "execution_count": null,
      "metadata": {
        "colab": {
          "base_uri": "https://localhost:8080/",
          "height": 36
        },
        "id": "83IJX_HC9qhC",
        "outputId": "90ec20d9-ce42-4fed-b068-151616288990"
      },
      "outputs": [
        {
          "output_type": "execute_result",
          "data": {
            "text/plain": [
              "'-'"
            ],
            "application/vnd.google.colaboratory.intrinsic+json": {
              "type": "string"
            }
          },
          "metadata": {},
          "execution_count": 42
        }
      ],
      "source": [
        "\n",
        "def getTrans(NT,T):\n",
        "    \n",
        "    a=getindT(T)\n",
        "    #print(a)\n",
        "    return(options[NT][a])\n",
        "\n",
        " \n",
        "getTrans(\"S\",\"toss\")\n"
      ]
    },
    {
      "cell_type": "code",
      "execution_count": null,
      "metadata": {
        "colab": {
          "base_uri": "https://localhost:8080/",
          "height": 36
        },
        "id": "El-GxCTX9qhC",
        "outputId": "e63ba95f-aad7-4821-e983-ad5f8678a978"
      },
      "outputs": [
        {
          "output_type": "execute_result",
          "data": {
            "text/plain": [
              "'-'"
            ],
            "application/vnd.google.colaboratory.intrinsic+json": {
              "type": "string"
            }
          },
          "metadata": {},
          "execution_count": 43
        }
      ],
      "source": [
        "getTrans(\"S\",\"toss\")"
      ]
    },
    {
      "cell_type": "code",
      "source": [
        "def untileq(l,block):\n",
        "  while(l[0]!=block[0]):\n",
        "    a=getTrans(block[0],l[0])\n",
        "    #print(a)\n",
        "    if(a != '-'):\n",
        "        block.pop(0)\n",
        "        k=splitf(a)\n",
        "        while(len(k)!=0):\n",
        "        \n",
        "            block.insert(0,k[-1])\n",
        "            k.pop()\n",
        "    print(\"\\n\")\n",
        "    print(l)\n",
        "    \n",
        "    print(block)\n"
      ],
      "metadata": {
        "id": "rjYmmMWaBsvb"
      },
      "execution_count": null,
      "outputs": []
    },
    {
      "cell_type": "code",
      "execution_count": null,
      "metadata": {
        "colab": {
          "base_uri": "https://localhost:8080/"
        },
        "id": "_cymiPk19qhD",
        "outputId": "88072388-9c7b-41ab-b232-8646d485b663"
      },
      "outputs": [
        {
          "output_type": "stream",
          "name": "stdout",
          "text": [
            "ENter string India won the championship\n",
            "['India', 'won', 'the', 'championship', '$']\n",
            "['S', '$']\n",
            "\n",
            "\n",
            "['India', 'won', 'the', 'championship', '$']\n",
            "['NP', 'VP', '$']\n",
            "\n",
            "\n",
            "['India', 'won', 'the', 'championship', '$']\n",
            "['PN', 'VP', '$']\n",
            "\n",
            "\n",
            "['India', 'won', 'the', 'championship', '$']\n",
            "['India', 'VP', '$']\n",
            "['won', 'the', 'championship', '$']\n",
            "['VP', '$']\n",
            "\n",
            "\n",
            "['won', 'the', 'championship', '$']\n",
            "['V', 'NP', '$']\n",
            "\n",
            "\n",
            "['won', 'the', 'championship', '$']\n",
            "['won', 'NP', '$']\n",
            "['the', 'championship', '$']\n",
            "['NP', '$']\n",
            "\n",
            "\n",
            "['the', 'championship', '$']\n",
            "['D', 'N', '$']\n",
            "\n",
            "\n",
            "['the', 'championship', '$']\n",
            "['the', 'N', '$']\n",
            "['championship', '$']\n",
            "['N', '$']\n",
            "\n",
            "\n",
            "['championship', '$']\n",
            "['championship', '$']\n",
            "['$']\n",
            "['$']\n",
            "Valid string\n"
          ]
        }
      ],
      "source": [
        "l=[]\n",
        "ini=[]\n",
        "s=input(\"ENter string \")\n",
        "l=splitf(s)\n",
        "l.append(\"$\")\n",
        "print(l)\n",
        "block=[\"S\",\"$\"]\n",
        "print(block)\n",
        "\n",
        "while(l[0]!=\"$\" and block[0]!=\"$\"): \n",
        "   untileq(l,block)\n",
        "\n",
        "   while (l[0]==block[0] and len(l)>1):\n",
        "       l.pop(0)\n",
        "       block.pop(0)\n",
        "       print(l)\n",
        "       print(block)\n",
        "\n",
        "\n",
        "if(l[0]==\"$\" and block[0]==\"$\"):\n",
        "  print(\"Valid string\")\n",
        "else:\n",
        "  print(\"Not valis string\")\n",
        "\n",
        "    \n",
        "\n",
        "\n",
        "\n",
        "\n",
        "\n",
        "\n",
        "\n",
        "\n",
        "\n",
        "\n",
        "\n",
        "  \n"
      ]
    },
    {
      "cell_type": "code",
      "execution_count": null,
      "metadata": {
        "id": "fdIRRJy19qhE"
      },
      "outputs": [],
      "source": []
    },
    {
      "cell_type": "code",
      "execution_count": null,
      "metadata": {
        "id": "3iAmMKgz9qhE"
      },
      "outputs": [],
      "source": []
    }
  ],
  "metadata": {
    "kernelspec": {
      "display_name": "Python 3 (ipykernel)",
      "language": "python",
      "name": "python3"
    },
    "language_info": {
      "codemirror_mode": {
        "name": "ipython",
        "version": 3
      },
      "file_extension": ".py",
      "mimetype": "text/x-python",
      "name": "python",
      "nbconvert_exporter": "python",
      "pygments_lexer": "ipython3",
      "version": "3.9.13"
    },
    "colab": {
      "provenance": []
    }
  },
  "nbformat": 4,
  "nbformat_minor": 0
}