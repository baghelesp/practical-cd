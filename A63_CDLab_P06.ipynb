{
  "cells": [
    {
      "cell_type": "code",
      "execution_count": 2,
      "metadata": {
        "id": "eGYveuUybvuy"
      },
      "outputs": [],
      "source": [
        "TAC = {\"1\": \"count=0\",\n",
        "\"2\": \"result=0\",\n",
        "\"3\": \"if count > 20 GOTO 8\",\n",
        "\"4\": \"count=count + 1\",\n",
        "\"5\": \"increment = 2 * count\",\n",
        "\"6\": \"result = result +increment\",\n",
        "\"7\": \"GOTO 3\",\n",
        "\"8\": \"end\"}"
      ]
    },
    {
      "cell_type": "code",
      "execution_count": 3,
      "metadata": {
        "colab": {
          "base_uri": "https://localhost:8080/"
        },
        "id": "d6d6byNybylI",
        "outputId": "1764c702-f55d-45d6-908f-57680c9d73c5"
      },
      "outputs": [
        {
          "data": {
            "text/plain": [
              "{'1': 'count=0',\n",
              " '2': 'result=0',\n",
              " '3': 'if count > 20 GOTO 8',\n",
              " '4': 'count=count + 1',\n",
              " '5': 'increment = 2 * count',\n",
              " '6': 'result = result +increment',\n",
              " '7': 'GOTO 3',\n",
              " '8': 'end'}"
            ]
          },
          "execution_count": 3,
          "metadata": {},
          "output_type": "execute_result"
        }
      ],
      "source": [
        "TAC"
      ]
    },
    {
      "cell_type": "code",
      "execution_count": 4,
      "metadata": {
        "id": "fd5AsSGRbynf"
      },
      "outputs": [],
      "source": [
        "LEADER = []\n",
        "blockList = []\n",
        "for k,v in TAC.items():\n",
        "  if LEADER == []:\n",
        "    LEADER.append((v,1))\n",
        "    blockList.append(1);\n",
        "  if v.__contains__('GOTO'):\n",
        "    LEADER.append((TAC[v[-1]], int(v[-1])))\n",
        "    blockList.append(int(v[-1]))\n",
        "  if v.__contains__('if'):\n",
        "  # print(int(k)+1)\n",
        "    LEADER.append((TAC[str(int(k)+1)], int(k)+1))\n",
        "    blockList.append(int(k) +1)\n",
        "LEADER.sort(key = lambda x: x[1])"
      ]
    },
    {
      "cell_type": "code",
      "execution_count": 5,
      "metadata": {
        "colab": {
          "base_uri": "https://localhost:8080/"
        },
        "id": "BPDYlH5cbyp-",
        "outputId": "7cb19fe2-7403-454d-ef4b-06b677669991"
      },
      "outputs": [
        {
          "data": {
            "text/plain": [
              "[('count=0', 1),\n",
              " ('if count > 20 GOTO 8', 3),\n",
              " ('count=count + 1', 4),\n",
              " ('end', 8)]"
            ]
          },
          "execution_count": 5,
          "metadata": {},
          "output_type": "execute_result"
        }
      ],
      "source": [
        "LEADER"
      ]
    },
    {
      "cell_type": "code",
      "execution_count": 6,
      "metadata": {
        "colab": {
          "base_uri": "https://localhost:8080/"
        },
        "id": "vgmbP3XfeMLX",
        "outputId": "f015610d-2a92-4a14-c95e-c62b0d7c2c22"
      },
      "outputs": [
        {
          "data": {
            "text/plain": [
              "[1, 3, 4, 8]"
            ]
          },
          "execution_count": 6,
          "metadata": {},
          "output_type": "execute_result"
        }
      ],
      "source": [
        "blockList = sorted(blockList)\n",
        "blockList"
      ]
    },
    {
      "cell_type": "code",
      "execution_count": 20,
      "metadata": {
        "id": "wCKq7DT5bysd"
      },
      "outputs": [],
      "source": [
        "blocks = {}\n",
        "index = 1\n",
        "for i in blockList:\n",
        "  firstIndex = blockList.index(i)\n",
        "  if firstIndex != len(blockList)-1:\n",
        "    secondIndex = firstIndex+1\n",
        "  else:\n",
        "    secondIndex = firstIndex\n",
        "  if firstIndex == blockList[-1] and firstIndex == secondIndex:\n",
        "    blocks[f'B{index}'] = firstIndex\n",
        "    index+=1\n",
        "    break\n",
        "  else:\n",
        "    blocks[f'B{index}'] = [blockList[firstIndex], blockList[secondIndex]-1]\n",
        "    index+=1\n",
        "# print(blockList[firstIndex], blockList[secondIndex]-1)\n",
        "for k,v in blocks.items():\n",
        "# print(v)\n",
        "  if v[0] == v[1]: # (3,3)\n",
        "    blocks[k] = (v[0])\n",
        "  if v[0] > v[1]: # (8,7)\n",
        "    blocks[k] = (v[0])"
      ]
    },
    {
      "cell_type": "code",
      "execution_count": 21,
      "metadata": {
        "colab": {
          "base_uri": "https://localhost:8080/"
        },
        "id": "g8vKvKvbbyu_",
        "outputId": "1882b07b-569e-4382-847b-5ae2cf23b9fd"
      },
      "outputs": [
        {
          "data": {
            "text/plain": [
              "{'B1': [1, 2], 'B2': 3, 'B3': [4, 7], 'B4': 8}"
            ]
          },
          "execution_count": 21,
          "metadata": {},
          "output_type": "execute_result"
        }
      ],
      "source": [
        "blocks"
      ]
    },
    {
      "cell_type": "code",
      "execution_count": 23,
      "metadata": {
        "id": "vi-TYhdrbyyW"
      },
      "outputs": [],
      "source": [
        "PFG = []\n",
        "for k,v in TAC.items():\n",
        "  if v.__contains__(\"if\"):\n",
        "# 1 - > 2\n",
        "    for key,val in blocks.items():\n",
        "      if type(val) != int:\n",
        "        if int(k)-1 in val or int(k) in val:\n",
        "          first = key\n",
        "      if int(k) == val or int(k)-1 == val:\n",
        "        second = key\n",
        "    PFG.append((first, second))\n",
        "# 2 -> 3\n",
        "    for key,val in blocks.items():\n",
        "      if type(val) != int:\n",
        "        if int(k)+1 in val or int(k) in val:\n",
        "          first = key\n",
        "      if int(k) == val or int(k)+1 == val:\n",
        "        second = key\n",
        "    PFG.append((second, first))\n",
        "  if v.__contains__(\"GOTO\"):\n",
        "    nextstmt = v.split(\"GOTO \")[-1]\n",
        "    for key,val in blocks.items():\n",
        "      if type(val) == int:\n",
        "        if int(k) == val:\n",
        "          first = key\n",
        "        elif int(nextstmt)==val:\n",
        "          second = key\n",
        "      elif(int(k)>=val[0] and int(k)<=val[-1]):\n",
        "        first=key\n",
        "        if int(nextstmt) >= val[0] and int(nextstmt)<=val[-1]:\n",
        "          second = key\n",
        "      \n",
        "    PFG.append((first, second))"
      ]
    },
    {
      "cell_type": "code",
      "execution_count": 24,
      "metadata": {
        "colab": {
          "base_uri": "https://localhost:8080/"
        },
        "id": "6uDifAWnea-4",
        "outputId": "954b68ea-2f79-46d3-ee63-02186af54e59"
      },
      "outputs": [
        {
          "data": {
            "text/plain": [
              "[('B1', 'B2'), ('B2', 'B3'), ('B2', 'B4'), ('B3', 'B2')]"
            ]
          },
          "execution_count": 24,
          "metadata": {},
          "output_type": "execute_result"
        }
      ],
      "source": [
        "PFG"
      ]
    }
  ],
  "metadata": {
    "colab": {
      "provenance": []
    },
    "kernelspec": {
      "display_name": "Python 3",
      "name": "python3"
    },
    "language_info": {
      "codemirror_mode": {
        "name": "ipython",
        "version": 3
      },
      "file_extension": ".py",
      "mimetype": "text/x-python",
      "name": "python",
      "nbconvert_exporter": "python",
      "pygments_lexer": "ipython3",
      "version": "3.11.0"
    }
  },
  "nbformat": 4,
  "nbformat_minor": 0
}
