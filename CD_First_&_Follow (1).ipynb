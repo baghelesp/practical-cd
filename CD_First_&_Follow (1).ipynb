{
  "cells": [
    {
      "cell_type": "code",
      "execution_count": 54,
      "metadata": {
        "id": "4qsmPjQH7-RV"
      },
      "outputs": [],
      "source": [
        "#S-> ABC | C\n",
        "#A-> a | bB | epsilon\n",
        "#B->p | epsilon\n",
        "#C-> c"
      ]
    },
    {
      "cell_type": "code",
      "execution_count": 55,
      "metadata": {
        "id": "Kr-9B7mBArsm"
      },
      "outputs": [],
      "source": [
        "Non_terminals=[\"S\",\"A\",\"B\",\"C\"]\n",
        "Terminals=[\"a\",\"b\",\"c\",\"p\",\"$\"]"
      ]
    },
    {
      "cell_type": "code",
      "execution_count": 56,
      "metadata": {
        "id": "dfDP9hBm8eYW"
      },
      "outputs": [],
      "source": [
        "production_rules={\"S\":[\"ABC\",\"C\"],\"A\":[\"a\",\"bB\",\"@\"],\"B\":[\"p\",\"@\"],\"C\":[\"c\"]}"
      ]
    },
    {
      "cell_type": "code",
      "execution_count": 57,
      "metadata": {
        "id": "hNAUPlY98eWW"
      },
      "outputs": [],
      "source": [
        "def First(symbol):\n",
        "  first=set([])\n",
        "  #if symbol is terminal\n",
        "  if(symbol[0] in Terminals or symbol==\"@\"):\n",
        "    first.add(symbol[0])\n",
        "    return first\n",
        "  #symbol length>1 (ABC)\n",
        "  if len(symbol)>1:\n",
        "    for sym in symbol:\n",
        "      first2=First(sym)\n",
        "      if '@' in first2:\n",
        "        first=first.union(first2-{'@'})\n",
        "      else:\n",
        "        first=first.union(first2)\n",
        "  \n",
        "  else:\n",
        "    for production in production_rules[symbol[0]]:\n",
        "      if(production[0] in Terminals):\n",
        "        first.add(production[0])\n",
        "      elif(production[0]==\"@\"):\n",
        "        first.add(production[0])\n",
        "      elif(production[0] in Non_terminals):\n",
        "          for string in production:\n",
        "            first2=First(string)\n",
        "            if(\"@\" in first2):\n",
        "              first=first.union((first2-{\"@\"}))\n",
        "            else:\n",
        "              first=first.union(first2)\n",
        "              break\n",
        "  return first"
      ]
    },
    {
      "cell_type": "code",
      "execution_count": 58,
      "metadata": {
        "colab": {
          "base_uri": "https://localhost:8080/"
        },
        "id": "0fxwR0nS8eUO",
        "outputId": "12720036-bef5-44bd-d035-1ba67437fb70"
      },
      "outputs": [
        {
          "name": "stdout",
          "output_type": "stream",
          "text": [
            "First for each Non-Terminals are:\n",
            "S : {'p', 'a', 'b', 'c'}\n",
            "A : {'@', 'a', 'b'}\n",
            "B : {'@', 'p'}\n",
            "C : {'c'}\n"
          ]
        }
      ],
      "source": [
        "print(\"First for each Non-Terminals are:\")\n",
        "for nt in Non_terminals:\n",
        "  print(f'{nt} : {First(nt)}')\n"
      ]
    },
    {
      "cell_type": "code",
      "execution_count": 59,
      "metadata": {
        "id": "0HTftdeuA_ZS"
      },
      "outputs": [],
      "source": [
        "def get_key(val):\n",
        "    keys=set([])\n",
        "    for key, value in production_rules.items():\n",
        "        for string in value:\n",
        "          for letter in string:\n",
        "           if val == letter:\n",
        "             keys.add(key)\n",
        "    return keys\n",
        " "
      ]
    },
    {
      "cell_type": "code",
      "execution_count": 60,
      "metadata": {
        "colab": {
          "base_uri": "https://localhost:8080/"
        },
        "id": "7a0YfH3c1T9d",
        "outputId": "eb0ba1ed-7a4c-4ce0-871b-79d3c97d6fa4"
      },
      "outputs": [
        {
          "name": "stdout",
          "output_type": "stream",
          "text": [
            "{'A'}\n"
          ]
        }
      ],
      "source": [
        "print(get_key(\"a\"))"
      ]
    },
    {
      "cell_type": "code",
      "execution_count": 61,
      "metadata": {
        "id": "IRrSesuT2nta"
      },
      "outputs": [],
      "source": [
        "def Follow(symbol):\n",
        "  follow=set([])\n",
        "  if(symbol==\"S\"):\n",
        "    follow.add(\"$\")\n",
        "  keys=get_key(symbol)\n",
        "  for k in keys:\n",
        "    for production in production_rules[k]:\n",
        "      for i in range(0,len(production)):\n",
        "          if production[i]==symbol :\n",
        "            j=i\n",
        "            if j!=len(production)-1:\n",
        "              for j in range(i,len(production)):\n",
        "                first=First(production[j+1])\n",
        "                if('@' in  first):\n",
        "                  follow=follow.union(Follow(k))\n",
        "                  follow=follow.union((first-{'@'}))\n",
        "                else:\n",
        "                  follow=follow.union(first)\n",
        "                  break\n",
        "            elif(production[i]==symbol and i==len(production)-1):\n",
        "                follow=follow.union(Follow(k))\n",
        "            elif(production[i]==symbol and symbol==k):\n",
        "                return\n",
        "            \n",
        "  return follow    \n",
        "\n",
        "  "
      ]
    },
    {
      "cell_type": "code",
      "execution_count": 62,
      "metadata": {
        "id": "hOlVvIA2Pto9"
      },
      "outputs": [],
      "source": [
        "def make_Table():  #Make first and follow table\n",
        "  table_dict=dict({})\n",
        "  for nt in Non_terminals:\n",
        "    table_dict[nt]=[First(nt),Follow(nt)]\n",
        "  return table_dict\n"
      ]
    },
    {
      "cell_type": "code",
      "execution_count": 72,
      "metadata": {
        "colab": {
          "base_uri": "https://localhost:8080/"
        },
        "id": "YBYdQD6qT6OX",
        "outputId": "78ba6a99-1576-4e2c-b229-6e34ccf1329d"
      },
      "outputs": [
        {
          "name": "stdout",
          "output_type": "stream",
          "text": [
            "Non-Terminals\t \t Follow\n",
            "S\t\t\t  {'$'}\n",
            "A\t\t\t  {'p', 'c', '$'}\n",
            "B\t\t\t  {'p', 'c', '$'}\n",
            "C\t\t\t  {'$'}\n"
          ]
        }
      ],
      "source": [
        "print(\"Non-Terminals\\t \\t Follow\")\n",
        "table=make_Table()\n",
        "for k in table.keys():\n",
        "  print(f'{k}\\t\\t\\t  {table[k][1]}')"
      ]
    },
    {
      "cell_type": "code",
      "execution_count": 64,
      "metadata": {
        "id": "pyLHZ3wZL0Ll"
      },
      "outputs": [],
      "source": [
        "def LL1Table():  #make LL(1) table\n",
        "  S={}\n",
        "  A={}\n",
        "  B={}\n",
        "  C={}\n",
        "  ll={\"S\":S,\"A\":A,\"B\":B,\"C\":C}\n",
        "\n",
        "  for k in ll.keys():\n",
        "    for t in Terminals:\n",
        "      ll[k][t]=list([])\n",
        "  table=make_Table()\n",
        "  for nt in Non_terminals:\n",
        "    for prod in production_rules[nt]:\n",
        "      first=First(prod)\n",
        "      for f in first:\n",
        "        if f=='@':\n",
        "         for fol in table[nt][1]:\n",
        "          ll[nt][fol].append(f'{nt}->epsilon')\n",
        "        elif(f in table[nt][0]):  \n",
        "          ll[nt][f].append(f'{nt}->{prod}')\n",
        "  for k in ll.keys():\n",
        "    ll[k]=dict(sorted(ll[k].items()))\n",
        "    print(f'{k}:=\\t',end='')\n",
        "    for s in ll[k]:\n",
        "      print(f'{s}: {ll[k][s]}\\t',end='')\n",
        "    print(\"\\n\")"
      ]
    },
    {
      "cell_type": "code",
      "execution_count": 65,
      "metadata": {
        "colab": {
          "base_uri": "https://localhost:8080/"
        },
        "id": "dND_C3etjpbp",
        "outputId": "67049fe1-6c78-4248-ea2b-fbae66accbe2"
      },
      "outputs": [
        {
          "name": "stdout",
          "output_type": "stream",
          "text": [
            "LL(1) Parsing Table:\n",
            "\n",
            "Non-terminals\n",
            "S:=\t$: []\ta: ['S->ABC']\tb: ['S->ABC']\tc: ['S->ABC', 'S->C']\tp: ['S->ABC']\t\n",
            "\n",
            "A:=\t$: ['A->epsilon']\ta: ['A->a']\tb: ['A->bB']\tc: ['A->epsilon']\tp: ['A->epsilon']\t\n",
            "\n",
            "B:=\t$: ['B->epsilon']\ta: []\tb: []\tc: ['B->epsilon']\tp: ['B->p', 'B->epsilon']\t\n",
            "\n",
            "C:=\t$: []\ta: []\tb: []\tc: ['C->c']\tp: []\t\n",
            "\n"
          ]
        }
      ],
      "source": [
        "print(\"LL(1) Parsing Table:\\n\")\n",
        "print(\"Non-terminals\")\n",
        "LL1Table()"
      ]
    },
    {
      "cell_type": "code",
      "execution_count": 66,
      "metadata": {
        "id": "rGX57X27PsbT"
      },
      "outputs": [],
      "source": [
        "#Since there are two instances where there are more than one productions in one slot, this grammar isn't LL(1)."
      ]
    }
  ],
  "metadata": {
    "colab": {
      "provenance": []
    },
    "kernelspec": {
      "display_name": "Python 3",
      "name": "python3"
    },
    "language_info": {
      "codemirror_mode": {
        "name": "ipython",
        "version": 3
      },
      "file_extension": ".py",
      "mimetype": "text/x-python",
      "name": "python",
      "nbconvert_exporter": "python",
      "pygments_lexer": "ipython3",
      "version": "3.9.5"
    }
  },
  "nbformat": 4,
  "nbformat_minor": 0
}
